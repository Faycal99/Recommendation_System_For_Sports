{
  "cells": [
    {
      "cell_type": "markdown",
      "metadata": {
        "id": "view-in-github",
        "colab_type": "text"
      },
      "source": [
        "<a href=\"https://colab.research.google.com/github/Faycal99/Recommendation_System_For_Sports/blob/main/RecommendationSystemFirstTry.ipynb\" target=\"_parent\"><img src=\"https://colab.research.google.com/assets/colab-badge.svg\" alt=\"Open In Colab\"/></a>"
      ]
    },
    {
      "cell_type": "markdown",
      "metadata": {
        "id": "YAvYk1vwbOtC"
      },
      "source": [
        "Recommendation System for sports based on differnt parameters including age,weight heigh, gender....etc"
      ]
    },
    {
      "cell_type": "markdown",
      "source": [
        "L'Objectif d’un système de recommandation hybride :\n",
        "\n",
        "L’objectif principal de ce system est de fournir à chaque utilisateur des recommandations personnalisées (ici des programmes de fitness, régimes, ou équipements) en combinant intelligemment plusieurs approches pour maximiser la pertinence, même en présence de données incomplètes ou hétérogènes en utilisant le dataset de kaggle :https://www.kaggle.com/datasets/hossamfarhoud/gym-recommendation/code."
      ],
      "metadata": {
        "id": "QY5IP4Xg9Sq9"
      }
    },
    {
      "cell_type": "code",
      "execution_count": 105,
      "metadata": {
        "id": "QZMbMnj9ZOQE"
      },
      "outputs": [],
      "source": [
        "import pandas as pd\n",
        "\n",
        "from sklearn.preprocessing import LabelEncoder, StandardScaler\n",
        "from sklearn.model_selection import train_test_split\n",
        "from sklearn.cluster import KMeans\n",
        "from sklearn.metrics.pairwise import cosine_similarity\n",
        "file_path = '/content/sample_data/gym recommendation.xlsx'\n",
        "df = pd.read_excel(file_path)\n",
        "pd.set_option('display.max_colwidth', 100)  # Adjust to desired width\n"
      ]
    },
    {
      "cell_type": "code",
      "source": [
        "df.head()"
      ],
      "metadata": {
        "colab": {
          "base_uri": "https://localhost:8080/",
          "height": 1000
        },
        "id": "d8k1ywxsyR4-",
        "outputId": "a68924c3-530c-4eb9-c843-aea40707dd02"
      },
      "execution_count": 106,
      "outputs": [
        {
          "output_type": "execute_result",
          "data": {
            "text/plain": [
              "   ID   Sex  Age  Height  Weight Hypertension Diabetes    BMI        Level Fitness Goal      Fitness Type                                                     Exercises                                                                             Equipment                                                                                                 Diet                                                                                       Recommendation\n",
              "0   1  Male   18    1.68    47.5           No       No  16.83  Underweight  Weight Gain  Muscular Fitness        Squats, deadlifts, bench presses, and overhead presses                                                                Dumbbells and barbells  Vegetables: (Carrots, Sweet Potato, and Lettuce); Protein Intake: (Red meats, poultry, fish, egg...  Follow a regular exercise schedule. Adhere to the exercise and diet plan to get better results. ...\n",
              "1   2  Male   18    1.68    47.5          Yes       No  16.83  Underweight  Weight Gain  Muscular Fitness        Squats, deadlifts, bench presses, and overhead presses                          Light athletic shoes, resistance bands, and light dumbbells.  Vegetables: (Tomatoes, Garlic, leafy greens, broccoli, carrots, and bell peppers); Protein Intak...  Follow a regular exercise schedule. Adhere to the exercise and diet plan to get better results. ...\n",
              "2   3  Male   18    1.68    47.5           No      Yes  16.83  Underweight  Weight Gain  Muscular Fitness  Squats, yoga, deadlifts, bench presses, and overhead presses                                         Dumbbells, barbells and Blood glucose monitor  Vegetables: (Garlic, Roma Tomatoes, Capers and Iceberg Lettuce); Protein Intake: (Cheese Standwi...  Follow a regular exercise schedule. Adhere to the exercise and diet plan to get better results. ...\n",
              "3   4  Male   18    1.68    47.5          Yes      Yes  16.83  Underweight  Weight Gain  Muscular Fitness  Squats, yoga, deadlifts, bench presses, and overhead presses  Light athletic shoes, resistance bands, light dumbbells and a Blood glucose monitor.  Vegetables: (Garlic, Roma Tomatoes, Capers, Green Papper, and Iceberg Lettuce); Protein Intake: ...  Follow a regular exercise schedule. Adhere to the exercise and diet plan to get better results. ...\n",
              "4   5  Male   18    1.68    47.5           No       No  16.83  Underweight  Weight Gain  Muscular Fitness        Squats, deadlifts, bench presses, and overhead presses                                                                Dumbbells and barbells  Vegetables: (Carrots, Sweet Potato, Lettuce); Protein Intake: (Red meats, poultry, fish, eggs, d...  Follow a regular exercise schedule. Adhere to the exercise and diet plan to get better results. ..."
            ],
            "text/html": [
              "\n",
              "  <div id=\"df-9eaedc78-875f-457a-9b15-dd711fd551da\" class=\"colab-df-container\">\n",
              "    <div>\n",
              "<style scoped>\n",
              "    .dataframe tbody tr th:only-of-type {\n",
              "        vertical-align: middle;\n",
              "    }\n",
              "\n",
              "    .dataframe tbody tr th {\n",
              "        vertical-align: top;\n",
              "    }\n",
              "\n",
              "    .dataframe thead th {\n",
              "        text-align: right;\n",
              "    }\n",
              "</style>\n",
              "<table border=\"1\" class=\"dataframe\">\n",
              "  <thead>\n",
              "    <tr style=\"text-align: right;\">\n",
              "      <th></th>\n",
              "      <th>ID</th>\n",
              "      <th>Sex</th>\n",
              "      <th>Age</th>\n",
              "      <th>Height</th>\n",
              "      <th>Weight</th>\n",
              "      <th>Hypertension</th>\n",
              "      <th>Diabetes</th>\n",
              "      <th>BMI</th>\n",
              "      <th>Level</th>\n",
              "      <th>Fitness Goal</th>\n",
              "      <th>Fitness Type</th>\n",
              "      <th>Exercises</th>\n",
              "      <th>Equipment</th>\n",
              "      <th>Diet</th>\n",
              "      <th>Recommendation</th>\n",
              "    </tr>\n",
              "  </thead>\n",
              "  <tbody>\n",
              "    <tr>\n",
              "      <th>0</th>\n",
              "      <td>1</td>\n",
              "      <td>Male</td>\n",
              "      <td>18</td>\n",
              "      <td>1.68</td>\n",
              "      <td>47.5</td>\n",
              "      <td>No</td>\n",
              "      <td>No</td>\n",
              "      <td>16.83</td>\n",
              "      <td>Underweight</td>\n",
              "      <td>Weight Gain</td>\n",
              "      <td>Muscular Fitness</td>\n",
              "      <td>Squats, deadlifts, bench presses, and overhead presses</td>\n",
              "      <td>Dumbbells and barbells</td>\n",
              "      <td>Vegetables: (Carrots, Sweet Potato, and Lettuce); Protein Intake: (Red meats, poultry, fish, egg...</td>\n",
              "      <td>Follow a regular exercise schedule. Adhere to the exercise and diet plan to get better results. ...</td>\n",
              "    </tr>\n",
              "    <tr>\n",
              "      <th>1</th>\n",
              "      <td>2</td>\n",
              "      <td>Male</td>\n",
              "      <td>18</td>\n",
              "      <td>1.68</td>\n",
              "      <td>47.5</td>\n",
              "      <td>Yes</td>\n",
              "      <td>No</td>\n",
              "      <td>16.83</td>\n",
              "      <td>Underweight</td>\n",
              "      <td>Weight Gain</td>\n",
              "      <td>Muscular Fitness</td>\n",
              "      <td>Squats, deadlifts, bench presses, and overhead presses</td>\n",
              "      <td>Light athletic shoes, resistance bands, and light dumbbells.</td>\n",
              "      <td>Vegetables: (Tomatoes, Garlic, leafy greens, broccoli, carrots, and bell peppers); Protein Intak...</td>\n",
              "      <td>Follow a regular exercise schedule. Adhere to the exercise and diet plan to get better results. ...</td>\n",
              "    </tr>\n",
              "    <tr>\n",
              "      <th>2</th>\n",
              "      <td>3</td>\n",
              "      <td>Male</td>\n",
              "      <td>18</td>\n",
              "      <td>1.68</td>\n",
              "      <td>47.5</td>\n",
              "      <td>No</td>\n",
              "      <td>Yes</td>\n",
              "      <td>16.83</td>\n",
              "      <td>Underweight</td>\n",
              "      <td>Weight Gain</td>\n",
              "      <td>Muscular Fitness</td>\n",
              "      <td>Squats, yoga, deadlifts, bench presses, and overhead presses</td>\n",
              "      <td>Dumbbells, barbells and Blood glucose monitor</td>\n",
              "      <td>Vegetables: (Garlic, Roma Tomatoes, Capers and Iceberg Lettuce); Protein Intake: (Cheese Standwi...</td>\n",
              "      <td>Follow a regular exercise schedule. Adhere to the exercise and diet plan to get better results. ...</td>\n",
              "    </tr>\n",
              "    <tr>\n",
              "      <th>3</th>\n",
              "      <td>4</td>\n",
              "      <td>Male</td>\n",
              "      <td>18</td>\n",
              "      <td>1.68</td>\n",
              "      <td>47.5</td>\n",
              "      <td>Yes</td>\n",
              "      <td>Yes</td>\n",
              "      <td>16.83</td>\n",
              "      <td>Underweight</td>\n",
              "      <td>Weight Gain</td>\n",
              "      <td>Muscular Fitness</td>\n",
              "      <td>Squats, yoga, deadlifts, bench presses, and overhead presses</td>\n",
              "      <td>Light athletic shoes, resistance bands, light dumbbells and a Blood glucose monitor.</td>\n",
              "      <td>Vegetables: (Garlic, Roma Tomatoes, Capers, Green Papper, and Iceberg Lettuce); Protein Intake: ...</td>\n",
              "      <td>Follow a regular exercise schedule. Adhere to the exercise and diet plan to get better results. ...</td>\n",
              "    </tr>\n",
              "    <tr>\n",
              "      <th>4</th>\n",
              "      <td>5</td>\n",
              "      <td>Male</td>\n",
              "      <td>18</td>\n",
              "      <td>1.68</td>\n",
              "      <td>47.5</td>\n",
              "      <td>No</td>\n",
              "      <td>No</td>\n",
              "      <td>16.83</td>\n",
              "      <td>Underweight</td>\n",
              "      <td>Weight Gain</td>\n",
              "      <td>Muscular Fitness</td>\n",
              "      <td>Squats, deadlifts, bench presses, and overhead presses</td>\n",
              "      <td>Dumbbells and barbells</td>\n",
              "      <td>Vegetables: (Carrots, Sweet Potato, Lettuce); Protein Intake: (Red meats, poultry, fish, eggs, d...</td>\n",
              "      <td>Follow a regular exercise schedule. Adhere to the exercise and diet plan to get better results. ...</td>\n",
              "    </tr>\n",
              "  </tbody>\n",
              "</table>\n",
              "</div>\n",
              "    <div class=\"colab-df-buttons\">\n",
              "\n",
              "  <div class=\"colab-df-container\">\n",
              "    <button class=\"colab-df-convert\" onclick=\"convertToInteractive('df-9eaedc78-875f-457a-9b15-dd711fd551da')\"\n",
              "            title=\"Convert this dataframe to an interactive table.\"\n",
              "            style=\"display:none;\">\n",
              "\n",
              "  <svg xmlns=\"http://www.w3.org/2000/svg\" height=\"24px\" viewBox=\"0 -960 960 960\">\n",
              "    <path d=\"M120-120v-720h720v720H120Zm60-500h600v-160H180v160Zm220 220h160v-160H400v160Zm0 220h160v-160H400v160ZM180-400h160v-160H180v160Zm440 0h160v-160H620v160ZM180-180h160v-160H180v160Zm440 0h160v-160H620v160Z\"/>\n",
              "  </svg>\n",
              "    </button>\n",
              "\n",
              "  <style>\n",
              "    .colab-df-container {\n",
              "      display:flex;\n",
              "      gap: 12px;\n",
              "    }\n",
              "\n",
              "    .colab-df-convert {\n",
              "      background-color: #E8F0FE;\n",
              "      border: none;\n",
              "      border-radius: 50%;\n",
              "      cursor: pointer;\n",
              "      display: none;\n",
              "      fill: #1967D2;\n",
              "      height: 32px;\n",
              "      padding: 0 0 0 0;\n",
              "      width: 32px;\n",
              "    }\n",
              "\n",
              "    .colab-df-convert:hover {\n",
              "      background-color: #E2EBFA;\n",
              "      box-shadow: 0px 1px 2px rgba(60, 64, 67, 0.3), 0px 1px 3px 1px rgba(60, 64, 67, 0.15);\n",
              "      fill: #174EA6;\n",
              "    }\n",
              "\n",
              "    .colab-df-buttons div {\n",
              "      margin-bottom: 4px;\n",
              "    }\n",
              "\n",
              "    [theme=dark] .colab-df-convert {\n",
              "      background-color: #3B4455;\n",
              "      fill: #D2E3FC;\n",
              "    }\n",
              "\n",
              "    [theme=dark] .colab-df-convert:hover {\n",
              "      background-color: #434B5C;\n",
              "      box-shadow: 0px 1px 3px 1px rgba(0, 0, 0, 0.15);\n",
              "      filter: drop-shadow(0px 1px 2px rgba(0, 0, 0, 0.3));\n",
              "      fill: #FFFFFF;\n",
              "    }\n",
              "  </style>\n",
              "\n",
              "    <script>\n",
              "      const buttonEl =\n",
              "        document.querySelector('#df-9eaedc78-875f-457a-9b15-dd711fd551da button.colab-df-convert');\n",
              "      buttonEl.style.display =\n",
              "        google.colab.kernel.accessAllowed ? 'block' : 'none';\n",
              "\n",
              "      async function convertToInteractive(key) {\n",
              "        const element = document.querySelector('#df-9eaedc78-875f-457a-9b15-dd711fd551da');\n",
              "        const dataTable =\n",
              "          await google.colab.kernel.invokeFunction('convertToInteractive',\n",
              "                                                    [key], {});\n",
              "        if (!dataTable) return;\n",
              "\n",
              "        const docLinkHtml = 'Like what you see? Visit the ' +\n",
              "          '<a target=\"_blank\" href=https://colab.research.google.com/notebooks/data_table.ipynb>data table notebook</a>'\n",
              "          + ' to learn more about interactive tables.';\n",
              "        element.innerHTML = '';\n",
              "        dataTable['output_type'] = 'display_data';\n",
              "        await google.colab.output.renderOutput(dataTable, element);\n",
              "        const docLink = document.createElement('div');\n",
              "        docLink.innerHTML = docLinkHtml;\n",
              "        element.appendChild(docLink);\n",
              "      }\n",
              "    </script>\n",
              "  </div>\n",
              "\n",
              "\n",
              "    <div id=\"df-d7e102e5-54eb-40ad-989d-8e7caa4d73a9\">\n",
              "      <button class=\"colab-df-quickchart\" onclick=\"quickchart('df-d7e102e5-54eb-40ad-989d-8e7caa4d73a9')\"\n",
              "                title=\"Suggest charts\"\n",
              "                style=\"display:none;\">\n",
              "\n",
              "<svg xmlns=\"http://www.w3.org/2000/svg\" height=\"24px\"viewBox=\"0 0 24 24\"\n",
              "     width=\"24px\">\n",
              "    <g>\n",
              "        <path d=\"M19 3H5c-1.1 0-2 .9-2 2v14c0 1.1.9 2 2 2h14c1.1 0 2-.9 2-2V5c0-1.1-.9-2-2-2zM9 17H7v-7h2v7zm4 0h-2V7h2v10zm4 0h-2v-4h2v4z\"/>\n",
              "    </g>\n",
              "</svg>\n",
              "      </button>\n",
              "\n",
              "<style>\n",
              "  .colab-df-quickchart {\n",
              "      --bg-color: #E8F0FE;\n",
              "      --fill-color: #1967D2;\n",
              "      --hover-bg-color: #E2EBFA;\n",
              "      --hover-fill-color: #174EA6;\n",
              "      --disabled-fill-color: #AAA;\n",
              "      --disabled-bg-color: #DDD;\n",
              "  }\n",
              "\n",
              "  [theme=dark] .colab-df-quickchart {\n",
              "      --bg-color: #3B4455;\n",
              "      --fill-color: #D2E3FC;\n",
              "      --hover-bg-color: #434B5C;\n",
              "      --hover-fill-color: #FFFFFF;\n",
              "      --disabled-bg-color: #3B4455;\n",
              "      --disabled-fill-color: #666;\n",
              "  }\n",
              "\n",
              "  .colab-df-quickchart {\n",
              "    background-color: var(--bg-color);\n",
              "    border: none;\n",
              "    border-radius: 50%;\n",
              "    cursor: pointer;\n",
              "    display: none;\n",
              "    fill: var(--fill-color);\n",
              "    height: 32px;\n",
              "    padding: 0;\n",
              "    width: 32px;\n",
              "  }\n",
              "\n",
              "  .colab-df-quickchart:hover {\n",
              "    background-color: var(--hover-bg-color);\n",
              "    box-shadow: 0 1px 2px rgba(60, 64, 67, 0.3), 0 1px 3px 1px rgba(60, 64, 67, 0.15);\n",
              "    fill: var(--button-hover-fill-color);\n",
              "  }\n",
              "\n",
              "  .colab-df-quickchart-complete:disabled,\n",
              "  .colab-df-quickchart-complete:disabled:hover {\n",
              "    background-color: var(--disabled-bg-color);\n",
              "    fill: var(--disabled-fill-color);\n",
              "    box-shadow: none;\n",
              "  }\n",
              "\n",
              "  .colab-df-spinner {\n",
              "    border: 2px solid var(--fill-color);\n",
              "    border-color: transparent;\n",
              "    border-bottom-color: var(--fill-color);\n",
              "    animation:\n",
              "      spin 1s steps(1) infinite;\n",
              "  }\n",
              "\n",
              "  @keyframes spin {\n",
              "    0% {\n",
              "      border-color: transparent;\n",
              "      border-bottom-color: var(--fill-color);\n",
              "      border-left-color: var(--fill-color);\n",
              "    }\n",
              "    20% {\n",
              "      border-color: transparent;\n",
              "      border-left-color: var(--fill-color);\n",
              "      border-top-color: var(--fill-color);\n",
              "    }\n",
              "    30% {\n",
              "      border-color: transparent;\n",
              "      border-left-color: var(--fill-color);\n",
              "      border-top-color: var(--fill-color);\n",
              "      border-right-color: var(--fill-color);\n",
              "    }\n",
              "    40% {\n",
              "      border-color: transparent;\n",
              "      border-right-color: var(--fill-color);\n",
              "      border-top-color: var(--fill-color);\n",
              "    }\n",
              "    60% {\n",
              "      border-color: transparent;\n",
              "      border-right-color: var(--fill-color);\n",
              "    }\n",
              "    80% {\n",
              "      border-color: transparent;\n",
              "      border-right-color: var(--fill-color);\n",
              "      border-bottom-color: var(--fill-color);\n",
              "    }\n",
              "    90% {\n",
              "      border-color: transparent;\n",
              "      border-bottom-color: var(--fill-color);\n",
              "    }\n",
              "  }\n",
              "</style>\n",
              "\n",
              "      <script>\n",
              "        async function quickchart(key) {\n",
              "          const quickchartButtonEl =\n",
              "            document.querySelector('#' + key + ' button');\n",
              "          quickchartButtonEl.disabled = true;  // To prevent multiple clicks.\n",
              "          quickchartButtonEl.classList.add('colab-df-spinner');\n",
              "          try {\n",
              "            const charts = await google.colab.kernel.invokeFunction(\n",
              "                'suggestCharts', [key], {});\n",
              "          } catch (error) {\n",
              "            console.error('Error during call to suggestCharts:', error);\n",
              "          }\n",
              "          quickchartButtonEl.classList.remove('colab-df-spinner');\n",
              "          quickchartButtonEl.classList.add('colab-df-quickchart-complete');\n",
              "        }\n",
              "        (() => {\n",
              "          let quickchartButtonEl =\n",
              "            document.querySelector('#df-d7e102e5-54eb-40ad-989d-8e7caa4d73a9 button');\n",
              "          quickchartButtonEl.style.display =\n",
              "            google.colab.kernel.accessAllowed ? 'block' : 'none';\n",
              "        })();\n",
              "      </script>\n",
              "    </div>\n",
              "\n",
              "    </div>\n",
              "  </div>\n"
            ],
            "application/vnd.google.colaboratory.intrinsic+json": {
              "type": "dataframe",
              "variable_name": "df",
              "summary": "{\n  \"name\": \"df\",\n  \"rows\": 14589,\n  \"fields\": [\n    {\n      \"column\": \"ID\",\n      \"properties\": {\n        \"dtype\": \"number\",\n        \"std\": 4211,\n        \"min\": 1,\n        \"max\": 14589,\n        \"num_unique_values\": 14589,\n        \"samples\": [\n          14552,\n          10093,\n          908\n        ],\n        \"semantic_type\": \"\",\n        \"description\": \"\"\n      }\n    },\n    {\n      \"column\": \"Sex\",\n      \"properties\": {\n        \"dtype\": \"category\",\n        \"num_unique_values\": 2,\n        \"samples\": [\n          \"Female\",\n          \"Male\"\n        ],\n        \"semantic_type\": \"\",\n        \"description\": \"\"\n      }\n    },\n    {\n      \"column\": \"Age\",\n      \"properties\": {\n        \"dtype\": \"number\",\n        \"std\": 13,\n        \"min\": 18,\n        \"max\": 63,\n        \"num_unique_values\": 46,\n        \"samples\": [\n          57,\n          43\n        ],\n        \"semantic_type\": \"\",\n        \"description\": \"\"\n      }\n    },\n    {\n      \"column\": \"Height\",\n      \"properties\": {\n        \"dtype\": \"number\",\n        \"std\": 0.09812880317797798,\n        \"min\": 1.3,\n        \"max\": 2.03,\n        \"num_unique_values\": 59,\n        \"samples\": [\n          1.68,\n          1.6\n        ],\n        \"semantic_type\": \"\",\n        \"description\": \"\"\n      }\n    },\n    {\n      \"column\": \"Weight\",\n      \"properties\": {\n        \"dtype\": \"number\",\n        \"std\": 20.030634928677056,\n        \"min\": 32.0,\n        \"max\": 130.0,\n        \"num_unique_values\": 216,\n        \"samples\": [\n          42.2,\n          77.55\n        ],\n        \"semantic_type\": \"\",\n        \"description\": \"\"\n      }\n    },\n    {\n      \"column\": \"Hypertension\",\n      \"properties\": {\n        \"dtype\": \"category\",\n        \"num_unique_values\": 2,\n        \"samples\": [\n          \"Yes\",\n          \"No\"\n        ],\n        \"semantic_type\": \"\",\n        \"description\": \"\"\n      }\n    },\n    {\n      \"column\": \"Diabetes\",\n      \"properties\": {\n        \"dtype\": \"category\",\n        \"num_unique_values\": 2,\n        \"samples\": [\n          \"Yes\",\n          \"No\"\n        ],\n        \"semantic_type\": \"\",\n        \"description\": \"\"\n      }\n    },\n    {\n      \"column\": \"BMI\",\n      \"properties\": {\n        \"dtype\": \"number\",\n        \"std\": 6.765143772862851,\n        \"min\": 9.52,\n        \"max\": 70.0,\n        \"num_unique_values\": 1114,\n        \"samples\": [\n          44.96,\n          21.08\n        ],\n        \"semantic_type\": \"\",\n        \"description\": \"\"\n      }\n    },\n    {\n      \"column\": \"Level\",\n      \"properties\": {\n        \"dtype\": \"category\",\n        \"num_unique_values\": 4,\n        \"samples\": [\n          \"Normal\",\n          \"Obuse\"\n        ],\n        \"semantic_type\": \"\",\n        \"description\": \"\"\n      }\n    },\n    {\n      \"column\": \"Fitness Goal\",\n      \"properties\": {\n        \"dtype\": \"category\",\n        \"num_unique_values\": 2,\n        \"samples\": [\n          \"Weight Loss\",\n          \"Weight Gain\"\n        ],\n        \"semantic_type\": \"\",\n        \"description\": \"\"\n      }\n    },\n    {\n      \"column\": \"Fitness Type\",\n      \"properties\": {\n        \"dtype\": \"category\",\n        \"num_unique_values\": 2,\n        \"samples\": [\n          \"Cardio Fitness\",\n          \"Muscular Fitness\"\n        ],\n        \"semantic_type\": \"\",\n        \"description\": \"\"\n      }\n    },\n    {\n      \"column\": \"Exercises\",\n      \"properties\": {\n        \"dtype\": \"category\",\n        \"num_unique_values\": 5,\n        \"samples\": [\n          \"Squats, yoga, deadlifts, bench presses, and overhead presses\",\n          \"brisk walking, cycling, swimming, or dancing.\"\n        ],\n        \"semantic_type\": \"\",\n        \"description\": \"\"\n      }\n    },\n    {\n      \"column\": \"Equipment\",\n      \"properties\": {\n        \"dtype\": \"category\",\n        \"num_unique_values\": 9,\n        \"samples\": [\n          \"Equipment Required\",\n          \"Light athletic shoes, resistance bands, and light dumbbells.\"\n        ],\n        \"semantic_type\": \"\",\n        \"description\": \"\"\n      }\n    },\n    {\n      \"column\": \"Diet\",\n      \"properties\": {\n        \"dtype\": \"category\",\n        \"num_unique_values\": 11,\n        \"samples\": [\n          \"Vegetables: (Mixed greens, cherry tomatoes, cucumbers, bell peppers, carrots, celery, bell peppers);Protein Intake: (Chicken, fish, tofu, or legumes); Juice : (Green juice,kale, spinach, cucumber, celery, and apple)\",\n          \"Vegetables: (Carrots, Sweet Potato, and Lettuce); Protein Intake: (Red meats, poultry, fish, eggs, dairy products, legumes, and nuts); Juice: (Fruit juice, watermelon juice, carrot juice, apple juice and mango juice)\"\n        ],\n        \"semantic_type\": \"\",\n        \"description\": \"\"\n      }\n    },\n    {\n      \"column\": \"Recommendation\",\n      \"properties\": {\n        \"dtype\": \"category\",\n        \"num_unique_values\": 9,\n        \"samples\": [\n          \"Follow a regular exercise schedule. Adhere to the exercise and diet plan to get better results. I'm not a doctor, but I give you general advice on weight gain exercises and diet plans. It is important for individuals with diabetes and high blood pressure to consult with a health care professional, such as a registered dietitian or health care provider, to find an individualized plan that meets their unique needs. also, stop everything that can increase diabetes and blood pressure whether you are doing fitness or not. measure your sugar (diabetes) and blood before starting fitness. Here are some important tips:- Stay hydrated by drinking enough water throughout the day. Monitor your progress and adjust your diet and exercise routine accordingly. Get adequate sleep to support muscle recovery and overall health. Always monitor your situation, and consult your doctor or a professional counselor. Always consult with your healthcare provider before starting any new diet or exercise program, especially if you have underlying health conditions like diabetes. They can provide guidance based on your specific health needs and may recommend additional strategies or medications if necessary. Consistency: Establish a consistent eating and exercise routine. Consistency is key when it comes to long-term weight management. NOTICE: Opt for whole grains over refined grains for added fiber. Limit added sugars and opt for natural sources like honey or fruits.\",\n          \"Follow a regular exercise schedule. Adhere to the exercise and diet plan to get better results. I'm not a medical professional, but I can give you general advice that you should talk to your healthcare provider before making any changes to your exercise or diet, especially if you have hypertension. It is important to work with a health care professional to create an individualized plan based on your unique health needs. Always consult a health care professional or dietician for personalized advice based on your specific medical condition, as high blood pressure requires careful management of diet and exercise. Here are some important tips:- Stay hydrated by drinking enough water throughout the day. Monitor your progress and adjust your diet and exercise routine accordingly. Get adequate sleep to support muscle recovery and overall health. Always monitor your situation, and consult your personal doctor or a professional counselor.\"\n        ],\n        \"semantic_type\": \"\",\n        \"description\": \"\"\n      }\n    }\n  ]\n}"
            }
          },
          "metadata": {},
          "execution_count": 106
        }
      ]
    },
    {
      "cell_type": "markdown",
      "metadata": {
        "id": "4XxiDFz_dzb4"
      },
      "source": [
        "Feauture normalization and cleaning we have those columns [Sex \tAge \tHeight \tWeight \tHypertension \tDiabetes \tBMI \tLevel \tFitness Goal \tFitness Type \tExercises \tEquipment \tDiet \tRecommendation] we are gonna consider as the features that we are going to use for our content based filter while Exercises \tEquipment \tDiet \tRecommendation for the recommendation"
      ]
    },
    {
      "cell_type": "code",
      "execution_count": 107,
      "metadata": {
        "id": "O4YTW8rmdy0Z"
      },
      "outputs": [],
      "source": [
        "df = df.drop(columns=['BMI', 'Level'])\n",
        "\n",
        "# Encode categorical values\n",
        "label_encoder = LabelEncoder()\n",
        "categorical_cols = ['Sex', 'Hypertension', 'Diabetes', 'Fitness Goal', 'Fitness Type']\n",
        "for col in categorical_cols:\n",
        "    df[col] = label_encoder.fit_transform(df[col])"
      ]
    },
    {
      "cell_type": "code",
      "source": [
        "df['Fitness Type'].value_counts(normalize=True)"
      ],
      "metadata": {
        "colab": {
          "base_uri": "https://localhost:8080/",
          "height": 178
        },
        "id": "FhMDWi12jRdG",
        "outputId": "ef203387-13cc-466d-de15-01a730b33aa5"
      },
      "execution_count": 108,
      "outputs": [
        {
          "output_type": "execute_result",
          "data": {
            "text/plain": [
              "Fitness Type\n",
              "0    0.519638\n",
              "1    0.480362\n",
              "Name: proportion, dtype: float64"
            ],
            "text/html": [
              "<div>\n",
              "<style scoped>\n",
              "    .dataframe tbody tr th:only-of-type {\n",
              "        vertical-align: middle;\n",
              "    }\n",
              "\n",
              "    .dataframe tbody tr th {\n",
              "        vertical-align: top;\n",
              "    }\n",
              "\n",
              "    .dataframe thead th {\n",
              "        text-align: right;\n",
              "    }\n",
              "</style>\n",
              "<table border=\"1\" class=\"dataframe\">\n",
              "  <thead>\n",
              "    <tr style=\"text-align: right;\">\n",
              "      <th></th>\n",
              "      <th>proportion</th>\n",
              "    </tr>\n",
              "    <tr>\n",
              "      <th>Fitness Type</th>\n",
              "      <th></th>\n",
              "    </tr>\n",
              "  </thead>\n",
              "  <tbody>\n",
              "    <tr>\n",
              "      <th>0</th>\n",
              "      <td>0.519638</td>\n",
              "    </tr>\n",
              "    <tr>\n",
              "      <th>1</th>\n",
              "      <td>0.480362</td>\n",
              "    </tr>\n",
              "  </tbody>\n",
              "</table>\n",
              "</div><br><label><b>dtype:</b> float64</label>"
            ]
          },
          "metadata": {},
          "execution_count": 108
        }
      ]
    },
    {
      "cell_type": "code",
      "source": [
        "df['Diabetes'].value_counts(normalize=True)"
      ],
      "metadata": {
        "colab": {
          "base_uri": "https://localhost:8080/",
          "height": 178
        },
        "id": "RHbkhy3Lz0qq",
        "outputId": "3e9262cd-029e-4ee3-fcc9-940e0a9b99b4"
      },
      "execution_count": null,
      "outputs": [
        {
          "output_type": "execute_result",
          "data": {
            "text/plain": [
              "Diabetes\n",
              "0    0.537254\n",
              "1    0.462746\n",
              "Name: proportion, dtype: float64"
            ],
            "text/html": [
              "<div>\n",
              "<style scoped>\n",
              "    .dataframe tbody tr th:only-of-type {\n",
              "        vertical-align: middle;\n",
              "    }\n",
              "\n",
              "    .dataframe tbody tr th {\n",
              "        vertical-align: top;\n",
              "    }\n",
              "\n",
              "    .dataframe thead th {\n",
              "        text-align: right;\n",
              "    }\n",
              "</style>\n",
              "<table border=\"1\" class=\"dataframe\">\n",
              "  <thead>\n",
              "    <tr style=\"text-align: right;\">\n",
              "      <th></th>\n",
              "      <th>proportion</th>\n",
              "    </tr>\n",
              "    <tr>\n",
              "      <th>Diabetes</th>\n",
              "      <th></th>\n",
              "    </tr>\n",
              "  </thead>\n",
              "  <tbody>\n",
              "    <tr>\n",
              "      <th>0</th>\n",
              "      <td>0.537254</td>\n",
              "    </tr>\n",
              "    <tr>\n",
              "      <th>1</th>\n",
              "      <td>0.462746</td>\n",
              "    </tr>\n",
              "  </tbody>\n",
              "</table>\n",
              "</div><br><label><b>dtype:</b> float64</label>"
            ]
          },
          "metadata": {},
          "execution_count": 97
        }
      ]
    },
    {
      "cell_type": "markdown",
      "source": [
        "Normalization of age height and weight to be between -1 and 1 with the statndardScaler function"
      ],
      "metadata": {
        "id": "L6a1RXvx5D98"
      }
    },
    {
      "cell_type": "code",
      "execution_count": null,
      "metadata": {
        "id": "sW67h7OyfByW"
      },
      "outputs": [],
      "source": [
        "# Normalize numerical columns\n",
        "scaler = StandardScaler()\n",
        "df[['Age', 'Height', 'Weight']] = scaler.fit_transform(df[['Age', 'Height', 'Weight']])\n",
        "\n",
        "# Prepare input matrix X and separate recommendations\n",
        "X = df.drop(columns=['ID', 'Exercises', 'Equipment', 'Diet', 'Recommendation'])"
      ]
    },
    {
      "cell_type": "markdown",
      "source": [
        "Here we split our dataset between train set and test"
      ],
      "metadata": {
        "id": "H5_aPoCd5K6C"
      }
    },
    {
      "cell_type": "code",
      "execution_count": null,
      "metadata": {
        "id": "6Y5oxBrIhf9C"
      },
      "outputs": [],
      "source": [
        "X_train, X_test = train_test_split(X, test_size=0.1, random_state=42)\n",
        "train_idx = X_train.index\n",
        "test_idx = X_test.index"
      ]
    },
    {
      "cell_type": "markdown",
      "source": [
        "We add the clustring with kmeans in order to group our training set into 4 clusters"
      ],
      "metadata": {
        "id": "QqSpf6Si5UTR"
      }
    },
    {
      "cell_type": "code",
      "source": [
        "kmeans = KMeans(n_clusters=4, random_state=42)\n",
        "df['cluster'] = kmeans.fit_predict(X)"
      ],
      "metadata": {
        "id": "qLKw2w9mVQa-"
      },
      "execution_count": null,
      "outputs": []
    },
    {
      "cell_type": "code",
      "source": [
        "train_clusters = df.loc[train_idx, 'cluster']\n",
        "test_clusters = df.loc[test_idx, 'cluster']"
      ],
      "metadata": {
        "id": "rkpokybil-0K"
      },
      "execution_count": null,
      "outputs": []
    },
    {
      "cell_type": "code",
      "execution_count": null,
      "metadata": {
        "id": "1CnGAB5kiOgu",
        "colab": {
          "base_uri": "https://localhost:8080/"
        },
        "outputId": "24986de1-9129-48ad-e5f9-2fa4911e8ad1"
      },
      "outputs": [
        {
          "output_type": "stream",
          "name": "stdout",
          "text": [
            "🔍 Top 5 recommendations from users in the same cluster:\n",
            "\n",
            "                                                   Exercises                                                                                                                                                                                                                     Diet               Equipment                                                                                                                                                                                                                                                                                                                                                                                                                                                                                                                                                                                                                                                                                                                                                                                                                                       Recommendation\n",
            "3661  Squats, deadlifts, bench presses, and overhead presses  Vegetables: (Mixed greens, cherry tomatoes, cucumbers, bell peppers, carrots, celery, bell peppers);Protein Intake: (Chicken, fish, tofu, or legumes); Juice : (Green juice,kale, spinach, cucumber, celery, and apple)  Dumbbells and barbells  Follow a regular exercise schedule. Adhere to the exercise and diet plan to get better results. It is important to approach weight gain in a healthy and balanced way, focusing on both exercise and nutrition. Keep in mind that weight gain should be gradual and focused on building lean muscle rather than increasing fat. Additionally, it's always a good idea to consult with a health care professional or registered dietitian before making any significant changes to your exercise or diet plan. Here are some important tips:- Stay hydrated by drinking enough water throughout the day. Monitor your progress and adjust your diet and exercise routine accordingly. Get adequate sleep to support muscle recovery and overall health. Always monitor your situation, and consult your personal doctor or a professional counselor.\n"
          ]
        }
      ],
      "source": [
        "# Content-based recommendation within the same cluster only\n",
        "def content_based_clustered(test_row_pos, top_n=5):\n",
        "    test_user_vector = X_test.iloc[[test_row_pos]]\n",
        "    test_user_index = X_test.index[test_row_pos]\n",
        "    test_user_cluster = df.loc[test_user_index, 'cluster']\n",
        "\n",
        "    # Filter train users within the same cluster\n",
        "    cluster_train_indices = train_idx[train_clusters == test_user_cluster]\n",
        "    cluster_train_data = X_train.loc[cluster_train_indices]\n",
        "\n",
        "    # Compute similarity\n",
        "    similarity = cosine_similarity(test_user_vector, cluster_train_data)\n",
        "    top_indices = similarity[0].argsort()[::-1][:top_n]\n",
        "    similar_users = cluster_train_indices[top_indices]\n",
        "\n",
        "    # Return recommendations of those similar users\n",
        "    return df.loc[similar_users, ['Exercises', 'Diet', 'Equipment', 'Recommendation']]\n",
        "\n",
        "# Example usage\n",
        "result = content_based_clustered(test_row_pos=1, top_n=1)\n",
        "pd.set_option('display.max_colwidth', None)\n",
        "pd.set_option('display.max_columns', None)\n",
        "pd.set_option('display.expand_frame_repr', False)\n",
        "print(\"Top first recommendations from users in the same cluster:\\n\")\n",
        "print(result)\n"
      ]
    },
    {
      "cell_type": "code",
      "execution_count": null,
      "metadata": {
        "id": "Mn-u3nW3l7Br"
      },
      "outputs": [],
      "source": [
        "from sklearn.feature_extraction.text import TfidfVectorizer\n",
        "\n",
        "# Combine the text fields for recommendations\n",
        "df['combined_items'] = df['Exercises'].astype(str) + ' | ' + df['Diet'].astype(str) + ' | ' + df['Equipment'].astype(str)\n",
        "\n",
        "vectorizer = TfidfVectorizer()\n",
        "tfidf_matrix = vectorizer.fit_transform(df['combined_items'])\n",
        "\n",
        "# Split the tfidf matrix into train and test to align with X_train and X_test\n",
        "tfidf_train = tfidf_matrix[train_idx]\n",
        "tfidf_test = tfidf_matrix[test_idx]"
      ]
    },
    {
      "cell_type": "code",
      "source": [
        "import numpy as np\n",
        "\n",
        "def evaluate_recommendations(test_row_pos, top_n=5):\n",
        "    # Get test user index and their true combined items vector\n",
        "    test_idx_val = test_idx[test_row_pos]\n",
        "    true_vector = tfidf_test[test_row_pos]\n",
        "\n",
        "    # Get top similar users by content-based filtering (profile similarity)\n",
        "    test_user_vector = X_test.iloc[[test_row_pos]]\n",
        "    similarity = cosine_similarity(test_user_vector, X_train)\n",
        "    top_indices = similarity[0].argsort()[::-1][:top_n]\n",
        "    similar_users_idx = train_idx[top_indices]\n",
        "\n",
        "    # Aggregate recommended users' combined item vectors\n",
        "    recommended_vectors = tfidf_matrix[similar_users_idx]\n",
        "\n",
        "    # Compute similarity between true user and aggregated recommendations\n",
        "    # One way: average cosine similarity between true user and each recommended user\n",
        "    sims = cosine_similarity(true_vector, recommended_vectors)\n",
        "\n",
        "    # Mean similarity score\n",
        "    mean_sim = np.mean(sims)\n",
        "\n",
        "    return mean_sim\n",
        "\n",
        "# Example usage\n",
        "score = evaluate_recommendations(test_row_pos=1, top_n=5)\n",
        "print(f\"Average similarity score of recommended items: {score:.4f}\")"
      ],
      "metadata": {
        "id": "1mDgBMwTEx8J",
        "colab": {
          "base_uri": "https://localhost:8080/"
        },
        "outputId": "aff0ebb7-47a8-417e-c877-29abb214bca6"
      },
      "execution_count": null,
      "outputs": [
        {
          "output_type": "stream",
          "name": "stdout",
          "text": [
            "Average similarity score of recommended items: 1.0000\n"
          ]
        }
      ]
    },
    {
      "cell_type": "markdown",
      "metadata": {
        "id": "csOZUgY_xJg7"
      },
      "source": [
        "Now we give one test user,and find the top N most similar users in the training set using content-based similarity based on feautures X"
      ]
    },
    {
      "cell_type": "code",
      "execution_count": null,
      "metadata": {
        "id": "U4vYDumA1tE5",
        "colab": {
          "base_uri": "https://localhost:8080/"
        },
        "outputId": "845c372d-d376-4980-87b2-a28d0ef024d1"
      },
      "outputs": [
        {
          "output_type": "stream",
          "name": "stdout",
          "text": [
            "Mean recommendation similarity over test set: 0.9355\n"
          ]
        }
      ],
      "source": [
        "scores = []\n",
        "for i in range(len(X_test)):\n",
        "    score = evaluate_recommendations(i, top_n=5)\n",
        "    scores.append(score)\n",
        "\n",
        "print(f\"Mean recommendation similarity over test set: {np.mean(scores):.4f}\")"
      ]
    },
    {
      "cell_type": "code",
      "execution_count": null,
      "metadata": {
        "id": "n_2qtXn52xU1",
        "colab": {
          "base_uri": "https://localhost:8080/"
        },
        "outputId": "936d06af-0689-4bac-a4a6-f68b86f41e68"
      },
      "outputs": [
        {
          "output_type": "stream",
          "name": "stdout",
          "text": [
            "🤝 Top 5 collaborative recommendations based on user feedback:\n",
            "\n",
            "                                                          Exercises                                                                                                                                                                                                                                                          Diet                                                                             Equipment                                                                                                                                                                                                                                                                                                                                                                                                                                                                                                                                                                                                                                                                                                                                                                                                                                                                                                                                                                                                                                                                                                Recommendation\n",
            "9            Squats, deadlifts, bench presses, and overhead presses                                                                                  Vegetables: (Garlic, mushroon, green papper and water chestnut);Protein Intake: ( Baru Nuts, Beech Nuts, and black walnut); Juice : (Apple juice, Mango, and Beetroot Juice)                          Light athletic shoes, resistance bands, and light dumbbells.                                                                                                                               Follow a regular exercise schedule. Adhere to the exercise and diet plan to get better results. I'm not a medical professional, but I can give you general advice that you should talk to your healthcare provider before making any changes to your exercise or diet, especially if you have hypertension. It is important to work with a health care professional to create an individualized plan based on your unique health needs. Always consult a health care professional or dietician for personalized advice based on your specific medical condition, as high blood pressure requires careful management of diet and exercise. Here are some important tips:- Stay hydrated by drinking enough water throughout the day. Monitor your progress and adjust your diet and exercise routine accordingly. Get adequate sleep to support muscle recovery and overall health. Always monitor your situation, and consult your personal doctor or a professional counselor.\n",
            "12           Squats, deadlifts, bench presses, and overhead presses                                       Vegetables: (Mixed greens, cherry tomatoes, cucumbers, bell peppers, carrots, celery, bell peppers);Protein Intake: (Chicken, fish, tofu, or legumes); Juice : (Green juice,kale, spinach, cucumber, celery, and apple)                                                                Dumbbells and barbells                                                                                                                                                                                                                                                           Follow a regular exercise schedule. Adhere to the exercise and diet plan to get better results. It is important to approach weight gain in a healthy and balanced way, focusing on both exercise and nutrition. Keep in mind that weight gain should be gradual and focused on building lean muscle rather than increasing fat. Additionally, it's always a good idea to consult with a health care professional or registered dietitian before making any significant changes to your exercise or diet plan. Here are some important tips:- Stay hydrated by drinking enough water throughout the day. Monitor your progress and adjust your diet and exercise routine accordingly. Get adequate sleep to support muscle recovery and overall health. Always monitor your situation, and consult your personal doctor or a professional counselor.\n",
            "15     Squats, yoga, deadlifts, bench presses, and overhead presses  Vegetables: (Garlic, Roma Tomatoes, Capers, Green Papper, and Iceberg Lettuce); Protein Intake: (Cheese Sandwich, Baru Nuts, Beech Nuts, Squash Seeds, Mixed Teff, peanut butter, and jelly sandwich); Juice: (Apple juice, beetroot juice, and mango juice)  Light athletic shoes, resistance bands, light dumbbells and a Blood glucose monitor.                                                                                                                                                              Follow a regular exercise schedule. Adhere to the exercise and diet plan to get better results. I'm not a doctor, but I give you general advice on weight gain exercises and diet plans. It is important for individuals with diabetes and high blood pressure to consult with a health care professional, such as a registered dietitian or health care provider, to find an individualized plan that meets their unique needs. also stop everything that can increase diabetes and blood pressure whether you are doing fitness or not. measure your sugar (diabetes) and blood before starting fitness. Here are some important tips:- Stay hydrated by drinking enough water throughout the day. Monitor your progress and adjust your diet and exercise routine accordingly. Get adequate sleep to support muscle recovery and overall health. Always monitor your situation, and consult your personal doctor or a professional counselor.\n",
            "14500       Brisk walking, cycling, swimming, running , or dancing.                                   Vegetables: (Broccoli, Carrots, Spinach, Lettuce, Onion); Protein Intake: (Cheese, Cattoge cheese, Skim Milk, Law fat Milk, and Baru Nuts); Juice: (Fruit Juice, Aloe vera juice, Cold-pressed juice, and Watermelon juice)                             Ellipticals, Indoor Rowers,Treadmills, and Rowing machine  Follow a regular exercise schedule. Adhere to the exercise and diet plan to get better results. It is important to approach weight loss in a healthy and balanced way, focusing on exercise and nutrition. Keep in mind that weight loss should be gradual and focused on building lean muscle rather than increasing fat. Additionally, it's always a good idea to consult with a healthcare professional or registered dietitian before making any significant changes to your exercise or diet plan. Here are some important tips:- Stay hydrated by drinking enough water throughout the day. Monitor your progress and adjust your diet and exercise routine accordingly. Get adequate sleep to support muscle recovery and overall health. Always monitor your situation, and consult your doctor or a professional counselor. Consistency: Establish a consistent eating and exercise routine. Consistency is key when it comes to long-term weight management. NOTICE: Opt for whole grains over refined grains for added fiber.Limit added sugars and opt for natural sources like honey or fruits.\n",
            "14501       Brisk walking, cycling, swimming, running , or dancing.                                   Vegetables: (Broccoli, Carrots, Spinach, Lettuce, Onion); Protein Intake: (Cheese, Cattoge cheese, Skim Milk, Law fat Milk, and Baru Nuts); Juice: (Fruit Juice, Aloe vera juice, Cold-pressed juice, and Watermelon juice)                             Ellipticals, Indoor Rowers,Treadmills, and Rowing machine  Follow a regular exercise schedule. Adhere to the exercise and diet plan to get better results. It is important to approach weight loss in a healthy and balanced way, focusing on exercise and nutrition. Keep in mind that weight loss should be gradual and focused on building lean muscle rather than increasing fat. Additionally, it's always a good idea to consult with a healthcare professional or registered dietitian before making any significant changes to your exercise or diet plan. Here are some important tips:- Stay hydrated by drinking enough water throughout the day. Monitor your progress and adjust your diet and exercise routine accordingly. Get adequate sleep to support muscle recovery and overall health. Always monitor your situation, and consult your doctor or a professional counselor. Consistency: Establish a consistent eating and exercise routine. Consistency is key when it comes to long-term weight management. NOTICE: Opt for whole grains over refined grains for added fiber.Limit added sugars and opt for natural sources like honey or fruits.\n"
          ]
        }
      ],
      "source": [
        "\n",
        "# Seed random feedback between users (user-user matrix)\n",
        "n_users = len(df)\n",
        "feedback_matrix = pd.DataFrame(index=df.index, columns=df.index)\n",
        "# Seed random feedback between users (vectorized version)\n",
        "np.random.seed(42)\n",
        "n_users = len(df)\n",
        "feedback_array = np.random.choice([1, 0, -1], size=(n_users, n_users), p=[0.4, 0.4, 0.2])\n",
        "\n",
        "# Set self-feedback to 1 on the diagonal\n",
        "np.fill_diagonal(feedback_array, 1)\n",
        "\n",
        "# Convert to DataFrame with same indexing as df\n",
        "feedback_matrix = pd.DataFrame(feedback_array, index=df.index, columns=df.index)\n",
        "\n",
        "\n",
        "# Collaborative filtering recommendation using feedback similarity\n",
        "def cf_clustered_recommendation(test_row_pos, top_n=5):\n",
        "    test_user_index = X_test.index[test_row_pos]\n",
        "    test_user_cluster = df.loc[test_user_index, 'cluster']\n",
        "\n",
        "    # Get users in the same cluster (excluding test user)\n",
        "    cluster_users = df[df['cluster'] == test_user_cluster].index\n",
        "    cluster_users = cluster_users.drop(test_user_index, errors='ignore')\n",
        "\n",
        "    # Filter feedback matrix to the cluster only\n",
        "    cluster_feedback = feedback_matrix.loc[test_user_index, cluster_users]\n",
        "\n",
        "    # Keep only valid feedback (exclude -1)\n",
        "    valid_feedback = cluster_feedback[cluster_feedback != -1]\n",
        "\n",
        "    if valid_feedback.empty:\n",
        "        return pd.DataFrame([{'Exercises': 'No match', 'Diet': '-', 'Equipment': '-', 'Recommendation': '-'}])\n",
        "\n",
        "    # Sort by relevance score (CF similarity here is binary)\n",
        "    top_users = valid_feedback.sort_values(ascending=False).head(top_n).index\n",
        "\n",
        "    return df.loc[top_users, ['Exercises', 'Diet', 'Equipment', 'Recommendation']]\n",
        "\n",
        "# Example usage\n",
        "pd.set_option('display.max_colwidth', None)\n",
        "pd.set_option('display.max_columns', None)\n",
        "pd.set_option('display.expand_frame_repr', False)\n",
        "result = cf_clustered_recommendation(test_row_pos=1, top_n=5)\n",
        "print(\"Top 5 collaborative recommendations based on user feedback:\\n\")\n",
        "print(result)\n"
      ]
    },
    {
      "cell_type": "code",
      "source": [
        "def evaluate_cf_model(top_n=1):\n",
        "    total = 0\n",
        "    relevant_hits = 0\n",
        "    skipped = 0\n",
        "\n",
        "    for test_row_pos in range(len(X_test)):\n",
        "        test_user_index = X_test.index[test_row_pos]\n",
        "        recommended = cf_clustered_recommendation(test_row_pos, top_n=top_n)\n",
        "\n",
        "        if 'No match' in recommended.values:\n",
        "            skipped += 1\n",
        "            continue  # Skip users who had no valid recommendations\n",
        "\n",
        "        # Evaluate: count how many of the recommended users have relevance == 1\n",
        "        for idx in recommended.index:\n",
        "            feedback = feedback_matrix.loc[test_user_index, idx]\n",
        "            if feedback == 1:\n",
        "                relevant_hits += 1\n",
        "            total += 1\n",
        "\n",
        "    if total == 0:\n",
        "        return 0\n",
        "\n",
        "    precision_at_k = relevant_hits / total\n",
        "    coverage = (len(X_test) - skipped) / len(X_test)\n",
        "\n",
        "    return {\n",
        "        'Precision@k': precision_at_k,\n",
        "        'Coverage': coverage,\n",
        "        'Skipped': skipped,\n",
        "        'Total Test Users': len(X_test)\n",
        "    }\n",
        "\n",
        "# 🔍 Evaluate the model\n",
        "metrics = evaluate_cf_model(top_n=1)\n",
        "print(\"\\n📊 Evaluation Metrics:\")\n",
        "for k, v in metrics.items():\n",
        "    print(f\"{k}: {v}\")\n"
      ],
      "metadata": {
        "colab": {
          "base_uri": "https://localhost:8080/"
        },
        "id": "u97K7g4jubK4",
        "outputId": "f48960a6-fd4b-45c4-9383-eae18b7d1f02"
      },
      "execution_count": null,
      "outputs": [
        {
          "output_type": "stream",
          "name": "stdout",
          "text": [
            "\n",
            "📊 Evaluation Metrics:\n",
            "Precision@k: 1.0\n",
            "Coverage: 1.0\n",
            "Skipped: 0\n",
            "Total Test Users: 1459\n"
          ]
        }
      ]
    },
    {
      "cell_type": "code",
      "source": [
        "def hybrid_recommendation(test_row_pos, top_n=1, alpha=0.5):\n",
        "    cf_result = cf_clustered_recommendation(test_row_pos, top_n)\n",
        "    cbf_result = content_based_clustered(test_row_pos, top_n)\n",
        "\n",
        "    # If CF is unavailable, fallback to CBF only\n",
        "    if cf_result is None:\n",
        "        print(\"CF failed (no feedback), falling back to CBF only.\\n\")\n",
        "        return cbf_result\n",
        "\n",
        "    # If both are valid: combine by merging top_n/2 from each\n",
        "    half_n = top_n // 2\n",
        "    cf_top = cf_result.head(half_n)\n",
        "    cbf_top = cbf_result.head(top_n - half_n)\n",
        "\n",
        "    # Combine and drop duplicates\n",
        "    combined = pd.concat([cf_top, cbf_top]).drop_duplicates().head(top_n)\n",
        "    return combined\n",
        "\n",
        "#  Example\n",
        "test_row_pos = 1\n",
        "result = hybrid_recommendation(test_row_pos=test_row_pos, top_n=1)\n",
        "pd.set_option('display.max_colwidth', None)\n",
        "pd.set_option('display.max_columns', None)\n",
        "pd.set_option('display.expand_frame_repr', False)\n",
        "\n",
        "print(f\"\\n Hybrid Recommendation for test user {X_test.index[test_row_pos]}:\\n\")\n",
        "print(result)"
      ],
      "metadata": {
        "colab": {
          "base_uri": "https://localhost:8080/"
        },
        "id": "XOfIZVB9wAGB",
        "outputId": "f9b9694e-b2e7-45aa-ee06-9c6be60b59ef"
      },
      "execution_count": null,
      "outputs": [
        {
          "output_type": "stream",
          "name": "stdout",
          "text": [
            "\n",
            "🤝 Hybrid Recommendation for test user 10092:\n",
            "\n",
            "                                                   Exercises                                                                                                                                                                                                                     Diet               Equipment                                                                                                                                                                                                                                                                                                                                                                                                                                                                                                                                                                                                                                                                                                                                                                                                                                       Recommendation\n",
            "3661  Squats, deadlifts, bench presses, and overhead presses  Vegetables: (Mixed greens, cherry tomatoes, cucumbers, bell peppers, carrots, celery, bell peppers);Protein Intake: (Chicken, fish, tofu, or legumes); Juice : (Green juice,kale, spinach, cucumber, celery, and apple)  Dumbbells and barbells  Follow a regular exercise schedule. Adhere to the exercise and diet plan to get better results. It is important to approach weight gain in a healthy and balanced way, focusing on both exercise and nutrition. Keep in mind that weight gain should be gradual and focused on building lean muscle rather than increasing fat. Additionally, it's always a good idea to consult with a health care professional or registered dietitian before making any significant changes to your exercise or diet plan. Here are some important tips:- Stay hydrated by drinking enough water throughout the day. Monitor your progress and adjust your diet and exercise routine accordingly. Get adequate sleep to support muscle recovery and overall health. Always monitor your situation, and consult your personal doctor or a professional counselor.\n"
          ]
        }
      ]
    },
    {
      "cell_type": "code",
      "source": [
        "def hybrid_recommendation(test_row_pos, top_n=5, alpha=0.5):\n",
        "    cf_result = cf_clustered_recommendation(test_row_pos, top_n * 2)  # Get more candidates\n",
        "    cbf_result = content_based_clustered(test_row_pos, top_n * 2)\n",
        "\n",
        "    if cf_result is None and cbf_result is None:\n",
        "        return pd.DataFrame([{'Exercises': 'No match', 'Diet': '-', 'Equipment': '-', 'Recommendation': '-'}])\n",
        "\n",
        "    if cf_result is None:\n",
        "        print(\" CF failed (no feedback), fallback to CBF only.\\n\")\n",
        "        return cbf_result.head(top_n)\n",
        "\n",
        "    if cbf_result is None:\n",
        "        print(\" CBF failed, fallback to CF only.\\n\")\n",
        "        return cf_result.head(top_n)\n",
        "\n",
        "    # Assign scores (manual example)\n",
        "    cf_result = cf_result.copy()\n",
        "    cbf_result = cbf_result.copy()\n",
        "\n",
        "    cf_result['score'] = [1 - (i / top_n) for i in range(len(cf_result))]\n",
        "    cbf_result['score'] = [1 - (i / top_n) for i in range(len(cbf_result))]\n",
        "\n",
        "    # Normalize weights\n",
        "    cf_result['score'] *= alpha\n",
        "    cbf_result['score'] *= (1 - alpha)\n",
        "\n",
        "    combined = pd.concat([cf_result, cbf_result])\n",
        "    combined = combined.groupby(['Exercises', 'Diet', 'Equipment', 'Recommendation'], as_index=False)['score'].sum()\n",
        "    combined = combined.sort_values(by='score', ascending=False).head(top_n)\n",
        "\n",
        "    return combined.drop(columns=['score'])"
      ],
      "metadata": {
        "id": "JLXNAfYlwVN6"
      },
      "execution_count": null,
      "outputs": []
    },
    {
      "cell_type": "code",
      "source": [
        "hybrid_recommendation(test_row_pos=1, top_n=5, alpha=0.5)"
      ],
      "metadata": {
        "colab": {
          "base_uri": "https://localhost:8080/",
          "height": 314
        },
        "id": "tJ9eYIqXxckU",
        "outputId": "fc3563ed-d8dd-44ad-9c84-f7532a01c903"
      },
      "execution_count": null,
      "outputs": [
        {
          "output_type": "execute_result",
          "data": {
            "text/plain": [
              "                                           Exercises  \\\n",
              "2  Squats, deadlifts, bench presses, and overhead...   \n",
              "1  Squats, deadlifts, bench presses, and overhead...   \n",
              "3  Squats, yoga, deadlifts, bench presses, and ov...   \n",
              "0  Brisk walking, cycling, swimming, running , or...   \n",
              "\n",
              "                                                Diet  \\\n",
              "2  Vegetables: (Mixed greens, cherry tomatoes, cu...   \n",
              "1  Vegetables: (Garlic, mushroon, green papper an...   \n",
              "3  Vegetables: (Garlic, Roma Tomatoes, Capers, Gr...   \n",
              "0  Vegetables: (Broccoli, Carrots, Spinach, Lettu...   \n",
              "\n",
              "                                           Equipment  \\\n",
              "2                             Dumbbells and barbells   \n",
              "1  Light athletic shoes, resistance bands, and li...   \n",
              "3  Light athletic shoes, resistance bands, light ...   \n",
              "0  Ellipticals, Indoor Rowers,Treadmills, and Row...   \n",
              "\n",
              "                                      Recommendation  \n",
              "2  Follow a regular exercise schedule. Adhere to ...  \n",
              "1  Follow a regular exercise schedule. Adhere to ...  \n",
              "3  Follow a regular exercise schedule. Adhere to ...  \n",
              "0  Follow a regular exercise schedule. Adhere to ...  "
            ],
            "text/html": [
              "\n",
              "  <div id=\"df-2534b071-718c-4faa-a9b0-826f0fe58a2f\" class=\"colab-df-container\">\n",
              "    <div>\n",
              "<style scoped>\n",
              "    .dataframe tbody tr th:only-of-type {\n",
              "        vertical-align: middle;\n",
              "    }\n",
              "\n",
              "    .dataframe tbody tr th {\n",
              "        vertical-align: top;\n",
              "    }\n",
              "\n",
              "    .dataframe thead th {\n",
              "        text-align: right;\n",
              "    }\n",
              "</style>\n",
              "<table border=\"1\" class=\"dataframe\">\n",
              "  <thead>\n",
              "    <tr style=\"text-align: right;\">\n",
              "      <th></th>\n",
              "      <th>Exercises</th>\n",
              "      <th>Diet</th>\n",
              "      <th>Equipment</th>\n",
              "      <th>Recommendation</th>\n",
              "    </tr>\n",
              "  </thead>\n",
              "  <tbody>\n",
              "    <tr>\n",
              "      <th>2</th>\n",
              "      <td>Squats, deadlifts, bench presses, and overhead...</td>\n",
              "      <td>Vegetables: (Mixed greens, cherry tomatoes, cu...</td>\n",
              "      <td>Dumbbells and barbells</td>\n",
              "      <td>Follow a regular exercise schedule. Adhere to ...</td>\n",
              "    </tr>\n",
              "    <tr>\n",
              "      <th>1</th>\n",
              "      <td>Squats, deadlifts, bench presses, and overhead...</td>\n",
              "      <td>Vegetables: (Garlic, mushroon, green papper an...</td>\n",
              "      <td>Light athletic shoes, resistance bands, and li...</td>\n",
              "      <td>Follow a regular exercise schedule. Adhere to ...</td>\n",
              "    </tr>\n",
              "    <tr>\n",
              "      <th>3</th>\n",
              "      <td>Squats, yoga, deadlifts, bench presses, and ov...</td>\n",
              "      <td>Vegetables: (Garlic, Roma Tomatoes, Capers, Gr...</td>\n",
              "      <td>Light athletic shoes, resistance bands, light ...</td>\n",
              "      <td>Follow a regular exercise schedule. Adhere to ...</td>\n",
              "    </tr>\n",
              "    <tr>\n",
              "      <th>0</th>\n",
              "      <td>Brisk walking, cycling, swimming, running , or...</td>\n",
              "      <td>Vegetables: (Broccoli, Carrots, Spinach, Lettu...</td>\n",
              "      <td>Ellipticals, Indoor Rowers,Treadmills, and Row...</td>\n",
              "      <td>Follow a regular exercise schedule. Adhere to ...</td>\n",
              "    </tr>\n",
              "  </tbody>\n",
              "</table>\n",
              "</div>\n",
              "    <div class=\"colab-df-buttons\">\n",
              "\n",
              "  <div class=\"colab-df-container\">\n",
              "    <button class=\"colab-df-convert\" onclick=\"convertToInteractive('df-2534b071-718c-4faa-a9b0-826f0fe58a2f')\"\n",
              "            title=\"Convert this dataframe to an interactive table.\"\n",
              "            style=\"display:none;\">\n",
              "\n",
              "  <svg xmlns=\"http://www.w3.org/2000/svg\" height=\"24px\" viewBox=\"0 -960 960 960\">\n",
              "    <path d=\"M120-120v-720h720v720H120Zm60-500h600v-160H180v160Zm220 220h160v-160H400v160Zm0 220h160v-160H400v160ZM180-400h160v-160H180v160Zm440 0h160v-160H620v160ZM180-180h160v-160H180v160Zm440 0h160v-160H620v160Z\"/>\n",
              "  </svg>\n",
              "    </button>\n",
              "\n",
              "  <style>\n",
              "    .colab-df-container {\n",
              "      display:flex;\n",
              "      gap: 12px;\n",
              "    }\n",
              "\n",
              "    .colab-df-convert {\n",
              "      background-color: #E8F0FE;\n",
              "      border: none;\n",
              "      border-radius: 50%;\n",
              "      cursor: pointer;\n",
              "      display: none;\n",
              "      fill: #1967D2;\n",
              "      height: 32px;\n",
              "      padding: 0 0 0 0;\n",
              "      width: 32px;\n",
              "    }\n",
              "\n",
              "    .colab-df-convert:hover {\n",
              "      background-color: #E2EBFA;\n",
              "      box-shadow: 0px 1px 2px rgba(60, 64, 67, 0.3), 0px 1px 3px 1px rgba(60, 64, 67, 0.15);\n",
              "      fill: #174EA6;\n",
              "    }\n",
              "\n",
              "    .colab-df-buttons div {\n",
              "      margin-bottom: 4px;\n",
              "    }\n",
              "\n",
              "    [theme=dark] .colab-df-convert {\n",
              "      background-color: #3B4455;\n",
              "      fill: #D2E3FC;\n",
              "    }\n",
              "\n",
              "    [theme=dark] .colab-df-convert:hover {\n",
              "      background-color: #434B5C;\n",
              "      box-shadow: 0px 1px 3px 1px rgba(0, 0, 0, 0.15);\n",
              "      filter: drop-shadow(0px 1px 2px rgba(0, 0, 0, 0.3));\n",
              "      fill: #FFFFFF;\n",
              "    }\n",
              "  </style>\n",
              "\n",
              "    <script>\n",
              "      const buttonEl =\n",
              "        document.querySelector('#df-2534b071-718c-4faa-a9b0-826f0fe58a2f button.colab-df-convert');\n",
              "      buttonEl.style.display =\n",
              "        google.colab.kernel.accessAllowed ? 'block' : 'none';\n",
              "\n",
              "      async function convertToInteractive(key) {\n",
              "        const element = document.querySelector('#df-2534b071-718c-4faa-a9b0-826f0fe58a2f');\n",
              "        const dataTable =\n",
              "          await google.colab.kernel.invokeFunction('convertToInteractive',\n",
              "                                                    [key], {});\n",
              "        if (!dataTable) return;\n",
              "\n",
              "        const docLinkHtml = 'Like what you see? Visit the ' +\n",
              "          '<a target=\"_blank\" href=https://colab.research.google.com/notebooks/data_table.ipynb>data table notebook</a>'\n",
              "          + ' to learn more about interactive tables.';\n",
              "        element.innerHTML = '';\n",
              "        dataTable['output_type'] = 'display_data';\n",
              "        await google.colab.output.renderOutput(dataTable, element);\n",
              "        const docLink = document.createElement('div');\n",
              "        docLink.innerHTML = docLinkHtml;\n",
              "        element.appendChild(docLink);\n",
              "      }\n",
              "    </script>\n",
              "  </div>\n",
              "\n",
              "\n",
              "    <div id=\"df-3dff13f3-2430-465c-992a-c79d72c4402d\">\n",
              "      <button class=\"colab-df-quickchart\" onclick=\"quickchart('df-3dff13f3-2430-465c-992a-c79d72c4402d')\"\n",
              "                title=\"Suggest charts\"\n",
              "                style=\"display:none;\">\n",
              "\n",
              "<svg xmlns=\"http://www.w3.org/2000/svg\" height=\"24px\"viewBox=\"0 0 24 24\"\n",
              "     width=\"24px\">\n",
              "    <g>\n",
              "        <path d=\"M19 3H5c-1.1 0-2 .9-2 2v14c0 1.1.9 2 2 2h14c1.1 0 2-.9 2-2V5c0-1.1-.9-2-2-2zM9 17H7v-7h2v7zm4 0h-2V7h2v10zm4 0h-2v-4h2v4z\"/>\n",
              "    </g>\n",
              "</svg>\n",
              "      </button>\n",
              "\n",
              "<style>\n",
              "  .colab-df-quickchart {\n",
              "      --bg-color: #E8F0FE;\n",
              "      --fill-color: #1967D2;\n",
              "      --hover-bg-color: #E2EBFA;\n",
              "      --hover-fill-color: #174EA6;\n",
              "      --disabled-fill-color: #AAA;\n",
              "      --disabled-bg-color: #DDD;\n",
              "  }\n",
              "\n",
              "  [theme=dark] .colab-df-quickchart {\n",
              "      --bg-color: #3B4455;\n",
              "      --fill-color: #D2E3FC;\n",
              "      --hover-bg-color: #434B5C;\n",
              "      --hover-fill-color: #FFFFFF;\n",
              "      --disabled-bg-color: #3B4455;\n",
              "      --disabled-fill-color: #666;\n",
              "  }\n",
              "\n",
              "  .colab-df-quickchart {\n",
              "    background-color: var(--bg-color);\n",
              "    border: none;\n",
              "    border-radius: 50%;\n",
              "    cursor: pointer;\n",
              "    display: none;\n",
              "    fill: var(--fill-color);\n",
              "    height: 32px;\n",
              "    padding: 0;\n",
              "    width: 32px;\n",
              "  }\n",
              "\n",
              "  .colab-df-quickchart:hover {\n",
              "    background-color: var(--hover-bg-color);\n",
              "    box-shadow: 0 1px 2px rgba(60, 64, 67, 0.3), 0 1px 3px 1px rgba(60, 64, 67, 0.15);\n",
              "    fill: var(--button-hover-fill-color);\n",
              "  }\n",
              "\n",
              "  .colab-df-quickchart-complete:disabled,\n",
              "  .colab-df-quickchart-complete:disabled:hover {\n",
              "    background-color: var(--disabled-bg-color);\n",
              "    fill: var(--disabled-fill-color);\n",
              "    box-shadow: none;\n",
              "  }\n",
              "\n",
              "  .colab-df-spinner {\n",
              "    border: 2px solid var(--fill-color);\n",
              "    border-color: transparent;\n",
              "    border-bottom-color: var(--fill-color);\n",
              "    animation:\n",
              "      spin 1s steps(1) infinite;\n",
              "  }\n",
              "\n",
              "  @keyframes spin {\n",
              "    0% {\n",
              "      border-color: transparent;\n",
              "      border-bottom-color: var(--fill-color);\n",
              "      border-left-color: var(--fill-color);\n",
              "    }\n",
              "    20% {\n",
              "      border-color: transparent;\n",
              "      border-left-color: var(--fill-color);\n",
              "      border-top-color: var(--fill-color);\n",
              "    }\n",
              "    30% {\n",
              "      border-color: transparent;\n",
              "      border-left-color: var(--fill-color);\n",
              "      border-top-color: var(--fill-color);\n",
              "      border-right-color: var(--fill-color);\n",
              "    }\n",
              "    40% {\n",
              "      border-color: transparent;\n",
              "      border-right-color: var(--fill-color);\n",
              "      border-top-color: var(--fill-color);\n",
              "    }\n",
              "    60% {\n",
              "      border-color: transparent;\n",
              "      border-right-color: var(--fill-color);\n",
              "    }\n",
              "    80% {\n",
              "      border-color: transparent;\n",
              "      border-right-color: var(--fill-color);\n",
              "      border-bottom-color: var(--fill-color);\n",
              "    }\n",
              "    90% {\n",
              "      border-color: transparent;\n",
              "      border-bottom-color: var(--fill-color);\n",
              "    }\n",
              "  }\n",
              "</style>\n",
              "\n",
              "      <script>\n",
              "        async function quickchart(key) {\n",
              "          const quickchartButtonEl =\n",
              "            document.querySelector('#' + key + ' button');\n",
              "          quickchartButtonEl.disabled = true;  // To prevent multiple clicks.\n",
              "          quickchartButtonEl.classList.add('colab-df-spinner');\n",
              "          try {\n",
              "            const charts = await google.colab.kernel.invokeFunction(\n",
              "                'suggestCharts', [key], {});\n",
              "          } catch (error) {\n",
              "            console.error('Error during call to suggestCharts:', error);\n",
              "          }\n",
              "          quickchartButtonEl.classList.remove('colab-df-spinner');\n",
              "          quickchartButtonEl.classList.add('colab-df-quickchart-complete');\n",
              "        }\n",
              "        (() => {\n",
              "          let quickchartButtonEl =\n",
              "            document.querySelector('#df-3dff13f3-2430-465c-992a-c79d72c4402d button');\n",
              "          quickchartButtonEl.style.display =\n",
              "            google.colab.kernel.accessAllowed ? 'block' : 'none';\n",
              "        })();\n",
              "      </script>\n",
              "    </div>\n",
              "\n",
              "    </div>\n",
              "  </div>\n"
            ],
            "application/vnd.google.colaboratory.intrinsic+json": {
              "type": "dataframe",
              "summary": "{\n  \"name\": \"hybrid_recommendation(test_row_pos=1, top_n=5, alpha=0\",\n  \"rows\": 4,\n  \"fields\": [\n    {\n      \"column\": \"Exercises\",\n      \"properties\": {\n        \"dtype\": \"string\",\n        \"num_unique_values\": 3,\n        \"samples\": [\n          \"Squats, deadlifts, bench presses, and overhead presses\",\n          \"Squats, yoga, deadlifts, bench presses, and overhead presses\",\n          \"Brisk walking, cycling, swimming, running , or dancing.\"\n        ],\n        \"semantic_type\": \"\",\n        \"description\": \"\"\n      }\n    },\n    {\n      \"column\": \"Diet\",\n      \"properties\": {\n        \"dtype\": \"string\",\n        \"num_unique_values\": 4,\n        \"samples\": [\n          \"Vegetables: (Garlic, mushroon, green papper and water chestnut);Protein Intake: ( Baru Nuts, Beech Nuts, and black walnut); Juice : (Apple juice, Mango, and Beetroot Juice)\",\n          \"Vegetables: (Broccoli, Carrots, Spinach, Lettuce, Onion); Protein Intake: (Cheese, Cattoge cheese, Skim Milk, Law fat Milk, and Baru Nuts); Juice: (Fruit Juice, Aloe vera juice, Cold-pressed juice, and Watermelon juice)\",\n          \"Vegetables: (Mixed greens, cherry tomatoes, cucumbers, bell peppers, carrots, celery, bell peppers);Protein Intake: (Chicken, fish, tofu, or legumes); Juice : (Green juice,kale, spinach, cucumber, celery, and apple)\"\n        ],\n        \"semantic_type\": \"\",\n        \"description\": \"\"\n      }\n    },\n    {\n      \"column\": \"Equipment\",\n      \"properties\": {\n        \"dtype\": \"string\",\n        \"num_unique_values\": 4,\n        \"samples\": [\n          \"Light athletic shoes, resistance bands, and light dumbbells.\",\n          \"Ellipticals, Indoor Rowers,Treadmills, and Rowing machine\",\n          \"Dumbbells and barbells\"\n        ],\n        \"semantic_type\": \"\",\n        \"description\": \"\"\n      }\n    },\n    {\n      \"column\": \"Recommendation\",\n      \"properties\": {\n        \"dtype\": \"string\",\n        \"num_unique_values\": 4,\n        \"samples\": [\n          \"Follow a regular exercise schedule. Adhere to the exercise and diet plan to get better results. I'm not a medical professional, but I can give you general advice that you should talk to your healthcare provider before making any changes to your exercise or diet, especially if you have hypertension. It is important to work with a health care professional to create an individualized plan based on your unique health needs. Always consult a health care professional or dietician for personalized advice based on your specific medical condition, as high blood pressure requires careful management of diet and exercise. Here are some important tips:- Stay hydrated by drinking enough water throughout the day. Monitor your progress and adjust your diet and exercise routine accordingly. Get adequate sleep to support muscle recovery and overall health. Always monitor your situation, and consult your personal doctor or a professional counselor.\",\n          \"Follow a regular exercise schedule. Adhere to the exercise and diet plan to get better results. It is important to approach weight loss in a healthy and balanced way, focusing on exercise and nutrition. Keep in mind that weight loss should be gradual and focused on building lean muscle rather than increasing fat. Additionally, it's always a good idea to consult with a healthcare professional or registered dietitian before making any significant changes to your exercise or diet plan. Here are some important tips:- Stay hydrated by drinking enough water throughout the day. Monitor your progress and adjust your diet and exercise routine accordingly. Get adequate sleep to support muscle recovery and overall health. Always monitor your situation, and consult your doctor or a professional counselor. Consistency: Establish a consistent eating and exercise routine. Consistency is key when it comes to long-term weight management. NOTICE: Opt for whole grains over refined grains for added fiber.Limit added sugars and opt for natural sources like honey or fruits.\",\n          \"Follow a regular exercise schedule. Adhere to the exercise and diet plan to get better results. It is important to approach weight gain in a healthy and balanced way, focusing on both exercise and nutrition. Keep in mind that weight gain should be gradual and focused on building lean muscle rather than increasing fat. Additionally, it's always a good idea to consult with a health care professional or registered dietitian before making any significant changes to your exercise or diet plan. Here are some important tips:- Stay hydrated by drinking enough water throughout the day. Monitor your progress and adjust your diet and exercise routine accordingly. Get adequate sleep to support muscle recovery and overall health. Always monitor your situation, and consult your personal doctor or a professional counselor.\"\n        ],\n        \"semantic_type\": \"\",\n        \"description\": \"\"\n      }\n    }\n  ]\n}"
            }
          },
          "metadata": {},
          "execution_count": 53
        }
      ]
    },
    {
      "cell_type": "code",
      "execution_count": null,
      "metadata": {
        "id": "VUi8C0UlQMxi"
      },
      "outputs": [],
      "source": []
    },
    {
      "cell_type": "code",
      "source": [],
      "metadata": {
        "id": "eda8_zlnORxO"
      },
      "execution_count": null,
      "outputs": []
    },
    {
      "cell_type": "code",
      "source": [],
      "metadata": {
        "id": "vrsies6xPLZ5"
      },
      "execution_count": null,
      "outputs": []
    },
    {
      "cell_type": "code",
      "source": [],
      "metadata": {
        "id": "PUdQZWQzP3S3"
      },
      "execution_count": null,
      "outputs": []
    },
    {
      "cell_type": "code",
      "source": [],
      "metadata": {
        "id": "6rfhzZxnP4gP"
      },
      "execution_count": null,
      "outputs": []
    },
    {
      "cell_type": "code",
      "source": [],
      "metadata": {
        "id": "4QWm7djHXT3C"
      },
      "execution_count": null,
      "outputs": []
    },
    {
      "cell_type": "code",
      "source": [],
      "metadata": {
        "id": "WCbaMupLZUbI"
      },
      "execution_count": null,
      "outputs": []
    }
  ],
  "metadata": {
    "colab": {
      "provenance": [],
      "authorship_tag": "ABX9TyMdOQLqu3McsGFlosR8DgEo",
      "include_colab_link": true
    },
    "kernelspec": {
      "display_name": "Python 3",
      "name": "python3"
    },
    "language_info": {
      "name": "python"
    }
  },
  "nbformat": 4,
  "nbformat_minor": 0
}